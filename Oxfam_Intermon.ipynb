{
 "cells": [
  {
   "cell_type": "markdown",
   "metadata": {},
   "source": [
    "# CALL OF DATA: the day after\n",
    "\n",
    "Understanding how to filter and mainpulate the raw data using [Pandas](http://pandas.pydata.org/pandas-docs/stable/). And make an interactive embedded plot using [Bokeh](http://bokeh.pydata.org/en/latest/).\n",
    "\n",
    "[DataSource](http://www.realidadayuda.org/datos)"
   ]
  },
  {
   "cell_type": "code",
   "execution_count": 74,
   "metadata": {
    "collapsed": true
   },
   "outputs": [],
   "source": [
    "import pandas as pd\n",
    "import numpy as np\n",
    "import matplotlib.pyplot as plt\n",
    "%matplotlib inline"
   ]
  },
  {
   "cell_type": "code",
   "execution_count": 2,
   "metadata": {
    "collapsed": true
   },
   "outputs": [],
   "source": [
    "df=pd.read_csv('./Volcados_Completos/Volcados fusionados para Web 2008_2013 Total.csv')"
   ]
  },
  {
   "cell_type": "code",
   "execution_count": 3,
   "metadata": {},
   "outputs": [
    {
     "data": {
      "text/html": [
       "<div>\n",
       "<table border=\"1\" class=\"dataframe\">\n",
       "  <thead>\n",
       "    <tr style=\"text-align: right;\">\n",
       "      <th></th>\n",
       "      <th>Modo de Canalización</th>\n",
       "      <th>Tipo de Actores</th>\n",
       "      <th>Actores</th>\n",
       "      <th>Unidad</th>\n",
       "      <th>Título</th>\n",
       "      <th>Año de desembolso</th>\n",
       "      <th>AOD NETA</th>\n",
       "      <th>AOD Bruta</th>\n",
       "      <th>Tipo de Entidad Canalizadora</th>\n",
       "      <th>Detalle de Entidad Canalizadora</th>\n",
       "      <th>Detalle OMUDES /ONGD</th>\n",
       "      <th>País / Territorio</th>\n",
       "      <th>Prioridad geográfica del PD</th>\n",
       "      <th>Sectores CAD</th>\n",
       "      <th>Detalle Sectores CAD</th>\n",
       "      <th>Sector CRS</th>\n",
       "    </tr>\n",
       "  </thead>\n",
       "  <tbody>\n",
       "    <tr>\n",
       "      <th>0</th>\n",
       "      <td>Bilateral</td>\n",
       "      <td>Comunidades Autónomas</td>\n",
       "      <td>CCAA CAT - Cataluña</td>\n",
       "      <td>CCAA CAT ACCD - Cataluña - Agencia Catalana de...</td>\n",
       "      <td>Becas de cooperación internacional y desarroll...</td>\n",
       "      <td>2008</td>\n",
       "      <td>8017.53</td>\n",
       "      <td>8017.53</td>\n",
       "      <td>Otras Entidades</td>\n",
       "      <td>11000 - Entidad pública del país donante</td>\n",
       "      <td>ND</td>\n",
       "      <td>AFGANISTÁN</td>\n",
       "      <td>PAE: País con Atención Especial</td>\n",
       "      <td>400 - Multisectorial</td>\n",
       "      <td>430 - Otros multisectorial</td>\n",
       "      <td>43081 - Enseñanza / formación multisectorial</td>\n",
       "    </tr>\n",
       "    <tr>\n",
       "      <th>1</th>\n",
       "      <td>Bilateral</td>\n",
       "      <td>Comunidades Autónomas</td>\n",
       "      <td>CCAA CAT - Cataluña</td>\n",
       "      <td>CCAA CAT DPTOS - Cataluña - Departamentos de l...</td>\n",
       "      <td>Becas de cooperación internacional y desarroll...</td>\n",
       "      <td>2008</td>\n",
       "      <td>3931.05</td>\n",
       "      <td>3931.05</td>\n",
       "      <td>Otras Entidades</td>\n",
       "      <td>11000 - Entidad pública del país donante</td>\n",
       "      <td>ND</td>\n",
       "      <td>AFGANISTÁN</td>\n",
       "      <td>PAE: País con Atención Especial</td>\n",
       "      <td>400 - Multisectorial</td>\n",
       "      <td>430 - Otros multisectorial</td>\n",
       "      <td>43081 - Enseñanza / formación multisectorial</td>\n",
       "    </tr>\n",
       "    <tr>\n",
       "      <th>2</th>\n",
       "      <td>Bilateral</td>\n",
       "      <td>Comunidades Autónomas</td>\n",
       "      <td>CCAA CAT - Cataluña</td>\n",
       "      <td>CCAA CAT DPTOS - Cataluña - Departamentos de l...</td>\n",
       "      <td>Reedición, creación multimedia y presentación ...</td>\n",
       "      <td>2008</td>\n",
       "      <td>2141.77</td>\n",
       "      <td>2141.77</td>\n",
       "      <td>Otras Entidades</td>\n",
       "      <td>11000 - Entidad pública del país donante</td>\n",
       "      <td>ND</td>\n",
       "      <td>AFGANISTÁN</td>\n",
       "      <td>PAE: País con Atención Especial</td>\n",
       "      <td>998 - Sin Especificación / No Clasificados</td>\n",
       "      <td>998 - Sin asignar/sin especificar</td>\n",
       "      <td>99820 - Sensibilización sobre los problemas re...</td>\n",
       "    </tr>\n",
       "    <tr>\n",
       "      <th>3</th>\n",
       "      <td>Bilateral</td>\n",
       "      <td>Administración General del Estado</td>\n",
       "      <td>MAEC - Ministerio de Asuntos Exteriores y de C...</td>\n",
       "      <td>MAEC AECID DCAAEO-DCAEO - Departamento de Coop...</td>\n",
       "      <td>APOYO TÉCNICO COORDINACIÓN DEL PRT DE BADGHIS....</td>\n",
       "      <td>2008</td>\n",
       "      <td>18000.00</td>\n",
       "      <td>18000.00</td>\n",
       "      <td>Otras Entidades</td>\n",
       "      <td>11000 - Entidad pública del país donante</td>\n",
       "      <td>ND</td>\n",
       "      <td>AFGANISTÁN</td>\n",
       "      <td>PAE: País con Atención Especial</td>\n",
       "      <td>998 - Sin Especificación / No Clasificados</td>\n",
       "      <td>998 - Sin asignar/sin especificar</td>\n",
       "      <td>99810 - Sectores no especificados</td>\n",
       "    </tr>\n",
       "    <tr>\n",
       "      <th>4</th>\n",
       "      <td>Bilateral</td>\n",
       "      <td>Administración General del Estado</td>\n",
       "      <td>MAEC - Ministerio de Asuntos Exteriores y de C...</td>\n",
       "      <td>MAEC AECID DCAAEO-DCAEO - Departamento de Coop...</td>\n",
       "      <td>PROGRAMA DE RECONSTRUCCIÓN Y DESARROLLO DE LA ...</td>\n",
       "      <td>2008</td>\n",
       "      <td>12000000.00</td>\n",
       "      <td>12000000.00</td>\n",
       "      <td>Otras Entidades</td>\n",
       "      <td>11000 - Entidad pública del país donante</td>\n",
       "      <td>ND</td>\n",
       "      <td>AFGANISTÁN</td>\n",
       "      <td>PAE: País con Atención Especial</td>\n",
       "      <td>700 - Ayuda de Emergencia</td>\n",
       "      <td>730 - Ayuda a la reconstrucción y rehabilitación</td>\n",
       "      <td>73010 - Ayuda a la reconstrucción y rehabilita...</td>\n",
       "    </tr>\n",
       "  </tbody>\n",
       "</table>\n",
       "</div>"
      ],
      "text/plain": [
       "  Modo de Canalización                    Tipo de Actores  \\\n",
       "0            Bilateral              Comunidades Autónomas   \n",
       "1            Bilateral              Comunidades Autónomas   \n",
       "2            Bilateral              Comunidades Autónomas   \n",
       "3            Bilateral  Administración General del Estado   \n",
       "4            Bilateral  Administración General del Estado   \n",
       "\n",
       "                                             Actores  \\\n",
       "0                                CCAA CAT - Cataluña   \n",
       "1                                CCAA CAT - Cataluña   \n",
       "2                                CCAA CAT - Cataluña   \n",
       "3  MAEC - Ministerio de Asuntos Exteriores y de C...   \n",
       "4  MAEC - Ministerio de Asuntos Exteriores y de C...   \n",
       "\n",
       "                                              Unidad  \\\n",
       "0  CCAA CAT ACCD - Cataluña - Agencia Catalana de...   \n",
       "1  CCAA CAT DPTOS - Cataluña - Departamentos de l...   \n",
       "2  CCAA CAT DPTOS - Cataluña - Departamentos de l...   \n",
       "3  MAEC AECID DCAAEO-DCAEO - Departamento de Coop...   \n",
       "4  MAEC AECID DCAAEO-DCAEO - Departamento de Coop...   \n",
       "\n",
       "                                              Título  Año de desembolso  \\\n",
       "0  Becas de cooperación internacional y desarroll...               2008   \n",
       "1  Becas de cooperación internacional y desarroll...               2008   \n",
       "2  Reedición, creación multimedia y presentación ...               2008   \n",
       "3  APOYO TÉCNICO COORDINACIÓN DEL PRT DE BADGHIS....               2008   \n",
       "4  PROGRAMA DE RECONSTRUCCIÓN Y DESARROLLO DE LA ...               2008   \n",
       "\n",
       "      AOD NETA    AOD Bruta Tipo de Entidad Canalizadora  \\\n",
       "0      8017.53      8017.53              Otras Entidades   \n",
       "1      3931.05      3931.05              Otras Entidades   \n",
       "2      2141.77      2141.77              Otras Entidades   \n",
       "3     18000.00     18000.00              Otras Entidades   \n",
       "4  12000000.00  12000000.00              Otras Entidades   \n",
       "\n",
       "            Detalle de Entidad Canalizadora Detalle OMUDES /ONGD  \\\n",
       "0  11000 - Entidad pública del país donante                   ND   \n",
       "1  11000 - Entidad pública del país donante                   ND   \n",
       "2  11000 - Entidad pública del país donante                   ND   \n",
       "3  11000 - Entidad pública del país donante                   ND   \n",
       "4  11000 - Entidad pública del país donante                   ND   \n",
       "\n",
       "  País / Territorio      Prioridad geográfica del PD  \\\n",
       "0        AFGANISTÁN  PAE: País con Atención Especial   \n",
       "1        AFGANISTÁN  PAE: País con Atención Especial   \n",
       "2        AFGANISTÁN  PAE: País con Atención Especial   \n",
       "3        AFGANISTÁN  PAE: País con Atención Especial   \n",
       "4        AFGANISTÁN  PAE: País con Atención Especial   \n",
       "\n",
       "                                 Sectores CAD  \\\n",
       "0                        400 - Multisectorial   \n",
       "1                        400 - Multisectorial   \n",
       "2  998 - Sin Especificación / No Clasificados   \n",
       "3  998 - Sin Especificación / No Clasificados   \n",
       "4                   700 - Ayuda de Emergencia   \n",
       "\n",
       "                               Detalle Sectores CAD  \\\n",
       "0                        430 - Otros multisectorial   \n",
       "1                        430 - Otros multisectorial   \n",
       "2                 998 - Sin asignar/sin especificar   \n",
       "3                 998 - Sin asignar/sin especificar   \n",
       "4  730 - Ayuda a la reconstrucción y rehabilitación   \n",
       "\n",
       "                                          Sector CRS  \n",
       "0       43081 - Enseñanza / formación multisectorial  \n",
       "1       43081 - Enseñanza / formación multisectorial  \n",
       "2  99820 - Sensibilización sobre los problemas re...  \n",
       "3                  99810 - Sectores no especificados  \n",
       "4  73010 - Ayuda a la reconstrucción y rehabilita...  "
      ]
     },
     "execution_count": 3,
     "metadata": {},
     "output_type": "execute_result"
    }
   ],
   "source": [
    "df.head()"
   ]
  },
  {
   "cell_type": "code",
   "execution_count": 76,
   "metadata": {
    "scrolled": true
   },
   "outputs": [],
   "source": [
    "mask = df['País / Territorio'] == \"AFGANISTÁN\"  # Create a logical mask that you can apply to the dataframe\n",
    "# df[mask]"
   ]
  },
  {
   "cell_type": "code",
   "execution_count": 14,
   "metadata": {
    "collapsed": true
   },
   "outputs": [],
   "source": [
    "paises = df['País / Territorio']\n",
    "categ=df['']"
   ]
  },
  {
   "cell_type": "markdown",
   "metadata": {},
   "source": [
    "Below shows how you can use the unique countries in a dataframe as an loop index, create a masked dataframe for each country, and then return the unique sectors of that country. The sectors are the parsed, to extract the integer categories."
   ]
  },
  {
   "cell_type": "code",
   "execution_count": 55,
   "metadata": {},
   "outputs": [
    {
     "name": "stdout",
     "output_type": "stream",
     "text": [
      "do something with AFGANISTÁN\n",
      "[400, 998, 700, 100, 300, 500, 200, 910, 600]\n",
      "do something with ÁFRICA SUBSAHARIANA, NO ESPECIFICADOS\n",
      "[300, 100, 998, 910, 200, 400, 500, 700, 600, 930]\n",
      "do something with ÁFRICA, NO ESPECIFICADOS\n",
      "[300, 998, 100, 200, 400, 700, 600, 500, 910, 930]\n",
      "do something with ALBANIA\n",
      "[400, 998, 100, 300, 700, 200, 500, 910]\n",
      "do something with AMÉRICA DEL NORTE, CENTRAL Y CARIBE, NO ESPECIFICADOS\n",
      "[700, 100, 300, 400, 200, 998, 500, 910, 930]\n",
      "do something with AMÉRICA DEL SUR, NO ESPECIFICADOS\n",
      "[998, 200, 100, 400, 300, 700, 910, 500, 930]\n",
      "do something with AMÉRICA, NO ESPECIFICADOS\n",
      "[100, 200, 300, 998, 400, 700, 500, 910]\n",
      "do something with ANGOLA\n",
      "[100, 998, 300, 500, 400, 200, 700, 910]\n",
      "do something with ANTIGUA Y BARBUDA\n",
      "[100, 400, 200, 500]\n",
      "do something with ARGELIA\n",
      "[300, 100, 400, 998, 200, 700, 910, 930, 500]\n",
      "do something with ARGENTINA\n",
      "[100, 400, 300, 200, 998, 700, 910, 500]\n",
      "do something with ARMENIA\n",
      "[400, 100, 998, 300, 200, 700, 500]\n",
      "do something with ASIA CENTRAL, NO ESPECIFICADOS\n",
      "[100, 200, 300, 400, 998, 700, 910, 930]\n",
      "do something with ASIA ORIENTAL, NO ESPECIFICADOS\n",
      "[100, 700, 998, 400, 200, 300, 930]\n",
      "do something with ASIA SUR, NO ESPECIFICADOS\n",
      "[998, 100, 400, 700, 200, 300, 500, 930]\n",
      "do something with ASIA, NO ESPECIFICADOS\n",
      "[998, 100, 300, 400, 200, 700, 910, 500]\n",
      "do something with AZERBAIYÁN\n",
      "[998, 100, 200, 300, 400, 500, 700]\n",
      "do something with BANGLADESH\n",
      "[100, 300, 200, 700, 500, 998, 400, 910]\n",
      "do something with BARBADOS\n",
      "[400, 700, 100, 998, 200, 300]\n",
      "do something with BELICE\n",
      "[100, 400, 300, 700, 200, 998]\n"
     ]
    }
   ],
   "source": [
    "for pais in paises.unique()[0:20]:\n",
    "    print(f'do something with {pais}')\n",
    "    tmp_df = df[df['País / Territorio'] == pais]\n",
    "    sectors_per_country = tmp_df['Sectores CAD'].unique()\n",
    "    sector_numbers = [int(sector.split('-')[0]) for sector in sectors_per_country]\n",
    "    print(sector_numbers)"
   ]
  },
  {
   "cell_type": "code",
   "execution_count": 72,
   "metadata": {
    "scrolled": true
   },
   "outputs": [
    {
     "name": "stderr",
     "output_type": "stream",
     "text": [
      "297it [00:04, 62.44it/s]\n"
     ]
    }
   ],
   "source": [
    "x = []  # integer for country number\n",
    "y = []  # sector value\n",
    "xlabel = [] # country names (unique x's only)\n",
    "for n, pais in enumerate(paises.unique()):\n",
    "    print(f'do something with {pais}')\n",
    "    xlabel.append(pais)\n",
    "    tmp_df = df[df['País / Territorio'] == pais]\n",
    "    sectors_per_country = tmp_df['Sectores CAD'].unique()\n",
    "    sector_numbers = [int(sector.split('-')[0]) for sector in sectors_per_country]\n",
    "    for graph_value in sector_numbers:\n",
    "        x.append(n)\n",
    "        y.append(graph_value)\n",
    "    #print(sector_numbers)"
   ]
  },
  {
   "cell_type": "code",
   "execution_count": 73,
   "metadata": {
    "collapsed": true
   },
   "outputs": [],
   "source": []
  },
  {
   "cell_type": "code",
   "execution_count": 67,
   "metadata": {},
   "outputs": [
    {
     "data": {
      "text/plain": [
       "[<matplotlib.lines.Line2D at 0x1111b0c88>]"
      ]
     },
     "execution_count": 67,
     "metadata": {},
     "output_type": "execute_result"
    },
    {
     "data": {
      "image/png": "[encoded data removed]",
      "text/plain": [
       "<matplotlib.figure.Figure at 0x110f8eac8>"
      ]
     },
     "metadata": {},
     "output_type": "display_data"
    }
   ],
   "source": [
    "plt.Figure(figsize=(20,20))\n",
    "plt.plot(x, y,'ro')\n",
    "#plt.xlabel(xlabel)"
   ]
  },
  {
   "cell_type": "code",
   "execution_count": 51,
   "metadata": {},
   "outputs": [],
   "source": [
    "sector_numbers = [int(sector.split('-')[0]) for sector in sectors_per_country]"
   ]
  },
  {
   "cell_type": "code",
   "execution_count": 52,
   "metadata": {},
   "outputs": [
    {
     "data": {
      "text/plain": [
       "[300, 100, 998, 910, 200, 400, 500, 700, 600, 930]"
      ]
     },
     "execution_count": 52,
     "metadata": {},
     "output_type": "execute_result"
    }
   ],
   "source": [
    "sector_numbers"
   ]
  },
  {
   "cell_type": "markdown",
   "metadata": {},
   "source": [
    "### Bokeh plot\n",
    "\n",
    "For example, may be interesting to adapt the [Les Miserables example](http://bokeh.pydata.org/en/latest/docs/gallery/les_mis.html)."
   ]
  },
  {
   "cell_type": "code",
   "execution_count": null,
   "metadata": {
    "collapsed": true
   },
   "outputs": [],
   "source": []
  }
 ],
 "metadata": {
  "kernelspec": {
   "display_name": "Python 3",
   "language": "python",
   "name": "python3"
  },
  "language_info": {
   "codemirror_mode": {
    "name": "ipython",
    "version": 3
   },
   "file_extension": ".py",
   "mimetype": "text/x-python",
   "name": "python",
   "nbconvert_exporter": "python",
   "pygments_lexer": "ipython3",
   "version": "3.6.1"
  }
 },
 "nbformat": 4,
 "nbformat_minor": 2
}
